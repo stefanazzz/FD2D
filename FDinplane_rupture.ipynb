{
 "cells": [
  {
   "cell_type": "markdown",
   "metadata": {
    "id": "F4cwWNzKxz1n"
   },
   "source": [
    "# PROGRAM FDinplane\n",
    "2-d rectangle o-4 stress velocity inplane\n",
    "\n",
    "Stefan Nielsen - June 2018"
   ]
  },
  {
   "cell_type": "markdown",
   "metadata": {
    "id": "ate962lobpRM"
   },
   "source": [
    "**For goole colab only, turn the two cells below in \"code\" and run them:**"
   ]
  },
  {
   "cell_type": "markdown",
   "metadata": {
    "id": "u6rIuaKlbgNK"
   },
   "source": [
    "from google.colab import files\n",
    "uploaded = files.upload()\n",
    "# a widget \"browse\" will appear, click it and upload the two companion filed FDpar.py and FDarrays.py"
   ]
  },
  {
   "cell_type": "markdown",
   "metadata": {
    "id": "i8E1AFpmbj-C"
   },
   "source": [
    "%pip install -q \"ipympl==0.9.6\" \"ipywidgets==8.1.3\" \"matplotlib==3.8.4\"\n",
    "from google.colab import output\n",
    "output.enable_custom_widget_manager()"
   ]
  },
  {
   "cell_type": "markdown",
   "metadata": {
    "id": "U7zUrf1lbY6F"
   },
   "source": [
    "Skip the above two cells when using MYBINDER, and directly start below:"
   ]
  },
  {
   "cell_type": "code",
   "execution_count": 1,
   "metadata": {
    "id": "W7KHXJxsxz1p"
   },
   "outputs": [],
   "source": [
    "# Stefan Nielsen 2018 - various lib import:\n",
    "#%matplotlib inline\n",
    "#%matplotlib notebook\n",
    "#%config InlineBackend.figure_format = 'svg'\n",
    "import os\n",
    "import time\n",
    "import numpy as np\n",
    "%matplotlib inline\n",
    "import matplotlib.pyplot as plt\n",
    "#matplotlib.interactive(True)\n",
    "from pylab import plot, xlabel, ylabel\n",
    "from pylab import *\n",
    "#from scipy import arange\n",
    "#from IPython import display\n",
    "from matplotlib import animation, rc\n",
    "import matplotlib.ticker as ticker\n",
    "from importlib import reload\n",
    "#####"
   ]
  },
  {
   "cell_type": "markdown",
   "metadata": {
    "id": "GptOyw9Nxz1q"
   },
   "source": [
    "initialise parameters and arrays, importing from local files:"
   ]
  },
  {
   "cell_type": "code",
   "execution_count": 2,
   "metadata": {
    "id": "HDs_3CkFxz1q"
   },
   "outputs": [],
   "source": [
    "from FDfpar import *       #\n",
    "from FDarrays import *     #\n",
    "\n",
    "mu[:,:]=28.e9\n",
    "lam[:,:]=28.e9\n",
    "rho[:,:]=2700.\n",
    "rn=9./8.;rnn=-1/24.;\n",
    "def init(v1,v2,s11,s22,s12):\n",
    "    v1[:,:]=0;v2[:,:]=0;s11[:,:]=0;s22[:,:]=0;s12[:,:]=0;\n",
    "nxs=30;nys=2;\n",
    "strini[:]=1.0;broken[:]=0;nbr=0"
   ]
  },
  {
   "cell_type": "markdown",
   "metadata": {
    "id": "WYXNif6Bxz1r"
   },
   "source": [
    "define functions:"
   ]
  },
  {
   "cell_type": "code",
   "execution_count": 3,
   "metadata": {
    "id": "CG_WAalFxz1s"
   },
   "outputs": [],
   "source": [
    "def stress_o4(s11,s22,s12):\n",
    "    for i in range(2,nx-2):\n",
    "        for j in range(2,ny-2):\n",
    "            s11[j,i]=  s11[j,i] + (dt/dx) * (                   \\\n",
    "            (lam[j,i]+2*mu[j,i]) *                              \\\n",
    "            (rn*(v1[j,i]-v1[j,i-1])+rnn*(v1[j,i+1]-v1[j,i-2]))  \\\n",
    "            +lam[j,i] *                                         \\\n",
    "            (rn*(v2[j+1,i]-v2[j,i])+rnn*(v2[j+2,i]-v2[j-1,i])) )\n",
    "            #\n",
    "            s22[j,i]=s22[j,i]+ (dt/dx)*(                        \\\n",
    "            (lam[j,i]+2*mu[j,i]) *                              \\\n",
    "            (rn*(v2[j+1,i]-v2[j,i])+rnn*(v2[j+2,i]-v2[j-1,i]))  \\\n",
    "            +lam[j,i] *                                         \\\n",
    "            (rn*(v1[j,i]-v1[j,i-1])+rnn*(v1[j,i+1]-v1[j,i-2])  ) )\n",
    "    for i in range(2,nx-2):\n",
    "        for j in range(2,ny-2):\n",
    "            s12[j,i]=  s12[j,i] + mu[j,i]*(dt/dx)*(               \\\n",
    "            (rn*(v1[j,i]-v1[j-1,i])+rnn*(v1[j+1,i]-v1[j-2,i]))+    \\\n",
    "            (rn*(v2[j,i+1]-v2[j,i])+rnn*(v2[j,i+2]-v2[j,i-1]))  )"
   ]
  },
  {
   "cell_type": "code",
   "execution_count": 4,
   "metadata": {
    "id": "ENJk4xoIxz1s"
   },
   "outputs": [],
   "source": [
    "def stress_o2(s11,s22,s12):\n",
    "    for i in [1,nx-2]:\n",
    "        for j in [1,ny-2]:\n",
    "            s11[j,i]=  s11[j,i] + (dt/dx) * (                   \\\n",
    "            (lam[j,i]+2*mu[j,i]) *(v1[j,i]-v1[j,i-1])                                 \\\n",
    "            +lam[j,i]*(v2[j+1,i]-v2[j,i]) )\n",
    "            #\n",
    "            s22[j,i]=s22[j,i]+ (dt/dx)*(                        \\\n",
    "            (lam[j,i]+2*mu[j,i])*(v2[j+1,i]-v2[j,i])                                 \\\n",
    "            + lam[j,i]*(v1[j,i]-v1[j,i-1])  )\n",
    "    for i in [1,nx-2]:\n",
    "        for j in [1,ny-2]:\n",
    "            s12[j,i]=  s12[j,i] + mu[j,i]*(dt/dx)*(            \\\n",
    "            (v1[j,i]-v1[j-1,i])+(v2[j,i+1]-v2[j,i])     )"
   ]
  },
  {
   "cell_type": "code",
   "execution_count": 5,
   "metadata": {
    "id": "qn4P7n0-xz1t"
   },
   "outputs": [],
   "source": [
    "def vel_o4(v1,v2):\n",
    "    for i in range(2,nx-2):\n",
    "        for j in range(2,ny-2):\n",
    "            v1[j,i]= v1[j,i]+(1.-diss)*(dt/(dx*rho[j,i]))*(          \\\n",
    "             rn*(s11[j,i+1]-s11[j,i])+rnn*(s11[j,i+2]-s11[j,i-1])     \\\n",
    "            +rn*(s12[j+1,i]-s12[j,i])+rnn*(s12[j+2,i]-s12[j-1,i])   )\n",
    "            #\n",
    "            v2[j,i]= v2[j,i]+(1.-diss)*(dt/(dx*rho[j,i]))*(            \\\n",
    "             rn*(s22[j,i]-s22[j-1,i])+rnn*(s22[j+1,i]-s22[j-2,i])     \\\n",
    "            +rn*(s12[j,i]-s12[j,i-1])+rnn*(s12[j,i+1]-s12[j,i-2]) )"
   ]
  },
  {
   "cell_type": "code",
   "execution_count": 6,
   "metadata": {
    "id": "TdzwyLT_xz1t"
   },
   "outputs": [],
   "source": [
    "def vel_o2(v1,v2):\n",
    "    for i in [1,nx-2]:\n",
    "        for j in [1,ny-2]:\n",
    "            v1[j,i]= v1[j,i]+(1.-diss)*(dt/(dx*rho[j,i]))*(            \\\n",
    "             (s11[j,i+1]-s11[j,i]) + (s12[j+1,i]-s12[j,i]) )\n",
    "            #\n",
    "            v2[j,i]= v2[j,i]+(1.-diss)*(dt/(dx*rho[j,i]))*(            \\\n",
    "             (s22[j,i]-s22[j-1,i]) + (s12[j,i]-s12[j,i-1]) )"
   ]
  },
  {
   "cell_type": "code",
   "execution_count": 7,
   "metadata": {
    "id": "MspkTJbQxz1u"
   },
   "outputs": [],
   "source": [
    "def ssource1(s11,s22):\n",
    "    rf=0.;nxs=64;nys=64;\n",
    "    rf=(1./tau_s)*exp(-((float(it)*dt-2.*tau_s)/tau_s)**2)\n",
    "    s22[nxs,nxs]=s22[nys,nxs]+rf\n",
    "    s11[nys,nxs]=s11[nys,nxs]+rf"
   ]
  },
  {
   "cell_type": "code",
   "execution_count": 8,
   "metadata": {
    "id": "VmmG5Splxz1u"
   },
   "outputs": [],
   "source": [
    "def plo():\n",
    "    import time\n",
    "    mava=np.max(v1)\n",
    "\n",
    "    fig=plt.figure(figsize=(8,4))\n",
    "    ax1 = plt.subplot2grid((1,8), (0,0), colspan=7)\n",
    "\n",
    "    p = ax1.pcolor(v1, cmap=cm.RdBu,vmin=-mava,vmax=mava);\n",
    "    tim=it*dt\n",
    "    ax1.set_aspect('equal', adjustable='box')\n",
    "    fig.suptitle('time=%1.3f' %tim)\n",
    "    plt.show()"
   ]
  },
  {
   "cell_type": "code",
   "execution_count": 9,
   "metadata": {
    "id": "bjioFSeV2TR-"
   },
   "outputs": [],
   "source": [
    "def ssource2(s11,s22):\n",
    "    # add here an instant dislocation \n",
    "    s12[63,50:200]=-1"
   ]
  },
  {
   "cell_type": "code",
   "execution_count": 10,
   "metadata": {},
   "outputs": [],
   "source": [
    "def rupture():\n",
    "    \"\"\"\n",
    "    In-place port of the Fortran `rupture` subroutine.\n",
    "    \"\"\"\n",
    "    global nbr\n",
    "    j = 63  # \n",
    "    rvr=3000\n",
    "\n",
    "    for i in range(nx):  # i = 0 .. nx-1 (Fortran: 1..nx)\n",
    "        # local normals, slip-rate proxy, position/time\n",
    "        rns = 0.5 * (s22[j, i] + s22[j - 1, i])\n",
    "        rdis[i] = v1[j, i] - v1[j - 1, i]\n",
    "        rpos = float(i - nxs) * dx            # if nxs is 0-based\n",
    "        rtim = float(it) * dt\n",
    "\n",
    "        # Nucleation / rupture condition\n",
    "        if (rvr * rtim > rpos\n",
    "            and rvh * (rtim - tau_s) < rpos\n",
    "            and broken[i] == 0\n",
    "            and rpos > 0.0):\n",
    "            peak_12[i] = (s12[j, i] + strini[i]) * 0.99\n",
    "            broken[i] = 1\n",
    "            itim[i] = it\n",
    "            rdis[i] = 0.0\n",
    "            nbr += 1\n",
    "\n",
    "        # Friction update on broken points\n",
    "        if broken[i] == 1:\n",
    "            # Slip- and/or rate-weakening ('srw' or '')\n",
    "            if FricType == 'srw' or FricType == '':\n",
    "                # dd from slip weakening\n",
    "                if delta == 0.0:\n",
    "                    dd = 0.0\n",
    "                else:\n",
    "                    dd = 1.0 - slip[i] / delta\n",
    "                    if dd < 0.0: dd = 0.0\n",
    "                    if dd > 1.0: dd = 1.0\n",
    "\n",
    "                # dv from velocity weakening\n",
    "                if vcha == 0.0:\n",
    "                    dv = 0.0\n",
    "                else:\n",
    "                    # Guard against division by zero if vcha + rdis[i] ~ 0\n",
    "                    denom = vcha + rdis[i]\n",
    "                    dv = vcha / denom if denom != 0.0 else 0.0\n",
    "\n",
    "                if dv > dd:\n",
    "                    dd = dv\n",
    "\n",
    "            # Pure time-weakening\n",
    "            elif FricType == 'time':\n",
    "                dd = 1.0 - float(it - itim[i]) * dt / tau_f\n",
    "                if dd < 0.0: dd = 0.0\n",
    "                if dd > 1.0: dd = 1.0\n",
    "\n",
    "            # Enforce shear friction\n",
    "            friction = dd * peak_12[i]\n",
    "            s12[j, i] = friction - strini[i]\n",
    "\n",
    "            # Healing criterion\n",
    "            if rvh * (rtim - tau_s) > rpos:\n",
    "                broken[i] = 0\n",
    "                rdis[i] = 0.0\n",
    "                nbr -= 1\n",
    "        else:\n",
    "            # Not broken: reset local rdis contribution\n",
    "            rdis[i] = 0.0\n",
    "\n",
    "        # Accumulate slip\n",
    "        slip[i] = slip[i] + rdis[i] * dt\n"
   ]
  },
  {
   "cell_type": "markdown",
   "metadata": {
    "id": "PlmV68i3xz1u"
   },
   "source": [
    "start main time loop:"
   ]
  },
  {
   "cell_type": "code",
   "execution_count": 11,
   "metadata": {
    "id": "hKELV6SBxz1v",
    "scrolled": true
   },
   "outputs": [
    {
     "data": {
      "image/png": "[encoded data removed]",
      "text/plain": [
       "<Figure size 800x400 with 1 Axes>"
      ]
     },
     "metadata": {},
     "output_type": "display_data"
    }
   ],
   "source": [
    "it=0;is1=0\n",
    "ntime = 550; nos2=50;\n",
    "startt=time.time()\n",
    "#strini=1.0\n",
    "#\n",
    "v1s=[]\n",
    "#\n",
    "init(v1,v2,s11,s22,s12)\n",
    "try:\n",
    "    while(it < ntime):\n",
    "        it = it+1;\n",
    "        stress_o4(s11,s22,s12)\n",
    "        stress_o2(s11,s22,s12)\n",
    "        #ssource2(s11,s22)\n",
    "        rupture()\n",
    "        vel_o4(v1,v2)\n",
    "        vel_o2(v1,v2)\n",
    "        is1 = is1+1\n",
    "        if (is1 > nos2):\n",
    "            plo();\n",
    "            is1=0\n",
    "            #print (\"it=\"+str(it)+\" — time=\"+str(round(it*dt,3))+\" s\")\n",
    "        v1s.append(v1[63,127])\n",
    "except KeyboardInterrupt:\n",
    "    pass"
   ]
  },
  {
   "cell_type": "code",
   "execution_count": 12,
   "metadata": {
    "id": "ZmkdMrYWxz1v"
   },
   "outputs": [
    {
     "data": {
      "text/plain": [
       "[<matplotlib.lines.Line2D at 0x7fbf206c3a30>]"
      ]
     },
     "execution_count": 12,
     "metadata": {},
     "output_type": "execute_result"
    },
    {
     "data": {
      "image/png": "[encoded data removed]",
      "text/plain": [
       "<Figure size 640x480 with 1 Axes>"
      ]
     },
     "metadata": {},
     "output_type": "display_data"
    }
   ],
   "source": [
    "fig,ax=plt.subplots()\n",
    "ax.plot(v1s)"
   ]
  },
  {
   "cell_type": "code",
   "execution_count": null,
   "metadata": {},
   "outputs": [],
   "source": []
  }
 ],
 "metadata": {
  "colab": {
   "provenance": []
  },
  "kernelspec": {
   "display_name": "Python [conda env:geo04] *",
   "language": "python",
   "name": "conda-env-geo04-py"
  },
  "language_info": {
   "codemirror_mode": {
    "name": "ipython",
    "version": 3
   },
   "file_extension": ".py",
   "mimetype": "text/x-python",
   "name": "python",
   "nbconvert_exporter": "python",
   "pygments_lexer": "ipython3",
   "version": "3.8.15"
  }
 },
 "nbformat": 4,
 "nbformat_minor": 4
}
